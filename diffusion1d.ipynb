{
 "cells": [
  {
   "cell_type": "markdown",
   "id": "accredited-caribbean",
   "metadata": {},
   "source": [
    "Numerically step forward a simple diffusion equation of form\n",
    "\n",
    "$$ \\frac{\\partial \\phi}{\\partial t} = \\frac{\\partial}{\\partial x} \\kappa \\frac{\\partial \\phi}{\\partial x}$$\n",
    "\n",
    "where $\\kappa$ is a diffusion coefficient and $\\phi$ is the concentration of some property.\n",
    "\n",
    "Equation is advanced using simple, conditionally stable, Euler forward scheme and a second order spatial discretization\n",
    "\n",
    "$$\\phi^{n+1} = \\phi^{n} + \\Delta t \\delta_{x} ( \\kappa \\delta_{x}( \\phi^{n})) $$\n",
    "\n",
    "where $\\Delta t$ is a discrete time step and $\\delta_{x}(\\cdot)$ is a spatial differencing operator.\n",
    "\n",
    "$\\delta_{x}(\\phi)$ is defined as $\\frac{\\phi_{i+1}-\\phi_{i}}{\\Delta x}$, where $\\Delta x$ is a grid spacing and $i$ and $i+1$\n",
    "are indices of elements holding numerical values on the discrete grid.\n",
    "\n",
    "In this example the domain is periodic, so no boundary conditions are needed."
   ]
  },
  {
   "cell_type": "code",
   "execution_count": 1,
   "id": "chicken-belly",
   "metadata": {},
   "outputs": [],
   "source": [
    "# Load ppackages we use\n",
    "import numpy as np\n",
    "import matplotlib.pyplot as plt\n",
    "from time import sleep\n",
    "from IPython.display import clear_output\n",
    "from IPython.display import Video\n",
    "from celluloid import Camera\n",
    "from IPython.display import HTML"
   ]
  },
  {
   "cell_type": "code",
   "execution_count": 20,
   "id": "driving-impossible",
   "metadata": {},
   "outputs": [],
   "source": [
    "# Set up model problem\n",
    "# Lx - domain size, nx - number of discrete points,\n",
    "# dx - grid spacing, hw - halo width for periodicity\n",
    "# dt - time step\n",
    "Lx=1.\n",
    "nx=101 \n",
    "dx=Lx/nx\n",
    "hw=1\n",
    "dt=5\n",
    "\n",
    "phi_arr=np.zeros(nx+hw*2)\n",
    "kappa_arr=np.zeros(nx+hw*2)\n",
    "phi_init=np.zeros(nx+hw*2)\n",
    "phi_x=np.zeros(nx+hw*2)\n",
    "phi_xx=np.zeros(nx+hw*2)\n",
    "xc=np.zeros(nx+hw*2)\n",
    "interior_pts=[*range(hw,nx+hw)]\n",
    "kappa_arr=kappa_arr+dx**2/dt*0.5\n",
    "rdx=1./dx"
   ]
  },
  {
   "cell_type": "code",
   "execution_count": 21,
   "id": "olympic-understanding",
   "metadata": {},
   "outputs": [],
   "source": [
    "# Function for applying periodicity\n",
    "def halo(fld,ipts,npts,hw):\n",
    "    fld[0:hw]=fld[ipts][-hw:]\n",
    "    fld[npts+hw:]=fld[ipts][0:hw]"
   ]
  },
  {
   "cell_type": "code",
   "execution_count": 30,
   "id": "several-phenomenon",
   "metadata": {},
   "outputs": [],
   "source": [
    "# Define x locations of element centers\n",
    "xc[interior_pts]=(np.linspace(1,nx,nx)-0.5)*dx\n",
    "halo(xc,interior_pts,nx,hw)"
   ]
  },
  {
   "cell_type": "markdown",
   "id": "instrumental-release",
   "metadata": {},
   "source": [
    "Initial condition is a gaussian\n",
    "\n",
    "$$ \\phi(x) = e^{-50\\left(\\frac{x-x_{c}}{L_{x}}\\right)^2} $$\n",
    "\n",
    "where $L_{x}$ is domain length and $x_{c}=\\frac{1}{2} L_{x}$."
   ]
  },
  {
   "cell_type": "code",
   "execution_count": 23,
   "id": "funded-outdoors",
   "metadata": {},
   "outputs": [
    {
     "data": {
      "text/plain": [
       "[<matplotlib.lines.Line2D at 0x7fa94193e670>]"
      ]
     },
     "execution_count": 23,
     "metadata": {},
     "output_type": "execute_result"
    },
    {
     "data": {
      "image/png": "[encoded data removed]",
      "text/plain": [
       "<Figure size 432x288 with 1 Axes>"
      ]
     },
     "metadata": {
      "needs_background": "light"
     },
     "output_type": "display_data"
    }
   ],
   "source": [
    "# Define an initial condition for the variable phi\n",
    "phi_init[interior_pts]=np.exp( -50*(xc[interior_pts]/Lx-1/2)**2 )\n",
    "halo(phi_init,interior_pts,nx,hw)\n",
    "plt.plot(phi_init)"
   ]
  },
  {
   "cell_type": "code",
   "execution_count": 24,
   "id": "connected-meaning",
   "metadata": {},
   "outputs": [
    {
     "data": {
      "text/html": [
       "<video src=\"diffu_animation.mp4\" controls  >\n",
       "      Your browser does not support the <code>video</code> element.\n",
       "    </video>"
      ],
      "text/plain": [
       "<IPython.core.display.Video object>"
      ]
     },
     "execution_count": 24,
     "metadata": {},
     "output_type": "execute_result"
    }
   ],
   "source": [
    "# Step forward the equation in time, evaluating the first and second \n",
    "# derivative approximations at each time step.\n",
    "#\n",
    "# Record plots for animation\n",
    "phi_arr=phi_init\n",
    "\n",
    "fig = plt.figure(figsize=(12,12))\n",
    "camera=Camera(fig)\n",
    "phi_arr=phi_init\n",
    "\n",
    "for i in [*range(1,500)]:\n",
    " # First derivative in x\n",
    " phi_x[0:-1]=(phi_arr[1:]-phi_arr[0:-1])*rdx\n",
    " # Diffusive flux divergence in x\n",
    " phi_xx[interior_pts]=kappa_arr[interior_pts]*(phi_x[1:-1]-phi_x[0:-2])*rdx\n",
    " # Apply periodicity\n",
    " halo(phi_xx,interior_pts,nx,hw)\n",
    " # Update in time\n",
    " phi_arr=phi_arr+phi_xx*dt\n",
    " plt.plot(phi_init,'.')\n",
    " plt.plot(phi_arr)\n",
    " camera.snap()\n",
    "    \n",
    "animation=camera.animate()\n",
    "plt.close()\n",
    "animation.save('diffu_animation.mp4',fps=40)\n",
    "Video(\"diffu_animation.mp4\")"
   ]
  }
 ],
 "metadata": {
  "kernelspec": {
   "display_name": "iap-2021 env",
   "language": "python",
   "name": "iap-2021"
  },
  "language_info": {
   "codemirror_mode": {
    "name": "ipython",
    "version": 3
   },
   "file_extension": ".py",
   "mimetype": "text/x-python",
   "name": "python",
   "nbconvert_exporter": "python",
   "pygments_lexer": "ipython3",
   "version": "3.8.5"
  }
 },
 "nbformat": 4,
 "nbformat_minor": 5
}
